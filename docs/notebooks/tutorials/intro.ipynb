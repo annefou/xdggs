{
 "cells": [
  {
   "cell_type": "markdown",
   "id": "dad784db-63b6-40b1-ac34-f8972fa97275",
   "metadata": {},
   "source": [
    "# xdggs Tutorial"
   ]
  },
  {
   "cell_type": "code",
   "execution_count": null,
   "id": "9441eb13-78ec-443d-9df6-274cbe50c8c0",
   "metadata": {},
   "outputs": [],
   "source": []
  }
 ],
 "metadata": {
  "kernelspec": {
   "display_name": "Python 3 (ipykernel)",
   "language": "python",
   "name": "python3"
  },
  "language_info": {
   "codemirror_mode": {
    "name": "ipython",
    "version": 3
   },
   "file_extension": ".py",
   "mimetype": "text/x-python",
   "name": "python",
   "nbconvert_exporter": "python",
   "pygments_lexer": "ipython3",
   "version": "3.9.19"
  }
 },
 "nbformat": 4,
 "nbformat_minor": 5
}
