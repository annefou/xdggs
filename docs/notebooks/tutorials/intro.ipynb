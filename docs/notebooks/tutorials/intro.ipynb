{
 "cells": [
  {
   "cell_type": "markdown",
   "id": "0",
   "metadata": {},
   "source": [
    "# Plotting HEALPix Data with XDGGS and Lonboard\n",
    "\n",
    "## Authors & Contributors\n",
    "### Authors\n",
    "- Tina Odaka, Ifremer (France), [@tinaok](https://github.com/tinaok)\n",
    "\n",
    "## Purpose\n",
    "In this notebook, we will demonstrate several examples of plotting HEALPix data.  \n",
    "This notebook is prepared for a poster presentation at the 3rd Destination Earth User eXchange, held from October 15 - October 16, 2024, in Darmstadt. You can find more information about the event here: [3rd Destination Earth User eXchange](https://destination-earth.eu/event/3rd-destination-earth-user-exchange/).\n",
    "\n",
    "Link to the poster on Zenodo: [![DOI](https://zenodo.org/badge/DOI/10.5281/zenodo.13934967.svg)](https://doi.org/10.5281/zenodo.13934967)\n",
    "\n",
    "## Setup\n",
    "\n",
    "To run this notebook, you need to install XDGGS along with Lonboard. You can find the repository here: [XDGGS GitHub Repository](https://github.com/xarray-contrib/xdggs.git).\n",
    "\n",
    "To install the necessary dependencies, use the following command:\n",
    "\n",
    "```bash\n",
    "pip install \"xdggs[explore] @ git+https://github.com/xarray-contrib/xdggs.git\"```\n",
    "\n",
    "This command installs the XDGGS package directly from its GitHub repository. The `@` symbol indicates that the package is being installed from a specific URL, in this case, GitHub. The `explore` extra is specified to ensure that additional dependencies required for exploring and visualizing data (like `lonboard`) are included in the installation.\n",
    "\n",
    "This will install all the required libraries, such as:\n",
    "\n",
    "- `xarray`\n",
    "- `numpy`\n",
    "- `xdggs`\n",
    "- `lonboard`\n",
    "- `arro3-core`\n",
    "- `matplotlib`\n",
    "\n",
    "## Why Use Lonboard for Plotting in XDGGS?\n",
    "\n",
    "Lonboard uses GPU-based rendering, specifically leveraging WebGL through deck.gl. This enables efficient handling of large datasets, allowing for fast, interactive visualization of geospatial data directly in a browser. GPU-based rendering is essential when working with large-scale datasets that could slow down or crash traditional plotting libraries.\n",
    "\n",
    "Lonboard's high performance stems from its use of binary data formats such as GeoArrow and GeoParquet, which minimize data transfer and processing overhead. Unlike traditional libraries that rely on text formats like GeoJSON, Lonboard maintains a binary format throughout the entire pipeline. This approach reduces the number of data copies and avoids costly format conversions, leading to faster data transfers and more efficient rendering."
   ]
  },
  {
   "cell_type": "raw",
   "id": "1",
   "metadata": {
    "jupyter": {
     "outputs_hidden": true
    }
   },
   "source": [
    "#Lets install our latest xdggs package with plotting functionality\n",
    "\n",
    "!pip install \"xdggs[explore] @ git+https://github.com/xarray-contrib/xdggs.git\""
   ]
  },
  {
   "cell_type": "code",
   "execution_count": null,
   "id": "2",
   "metadata": {},
   "outputs": [],
   "source": [
    "import warnings\n",
    "\n",
    "import cf_xarray.units  # noqa: F401\n",
    "import numpy as np\n",
    "import pint_xarray  # noqa: F401\n",
    "import xarray as xr\n",
    "\n",
    "import xdggs\n",
    "\n",
    "warnings.filterwarnings(\"ignore\")"
   ]
  },
  {
   "cell_type": "markdown",
   "id": "3",
   "metadata": {},
   "source": [
    "##  Plotting generated test dataset\n",
    "HEALPix is designed to represent the sphere using spherical harmonics functions.\n",
    "Following code with generate a test dateset. "
   ]
  },
  {
   "cell_type": "code",
   "execution_count": null,
   "id": "4",
   "metadata": {},
   "outputs": [],
   "source": [
    "import healpy as hp\n",
    "import matplotlib.pyplot as plt\n",
    "\n",
    "lmax = 3\n",
    "level = 8\n",
    "nside = 2**level\n",
    "# compute Alm\n",
    "# get the l and m availble for l<=lmax\n",
    "l, m = hp.Alm.getlm(lmax=lmax)  # noqa: E741\n",
    "\n",
    "# count the number of alm map (1 for m=0 and 2 for m>0)\n",
    "n_alm = (m == 0).sum() + 2 * (m > 0).sum()\n",
    "function = np.zeros([n_alm, 12 * nside**2])\n",
    "\n",
    "alm = np.zeros([l.shape[0]], dtype=\"complex\")\n",
    "\n",
    "i = 0\n",
    "\n",
    "# array to store the l and m values of the A_lm\n",
    "l_func = np.zeros(n_alm, dtype=\"int\")\n",
    "m_func = np.zeros(n_alm, dtype=\"int\")\n",
    "is_real_func = np.zeros(n_alm, dtype=\"int\")\n",
    "\n",
    "for k in range(l.shape[0]):\n",
    "    alm[k] = 1.0\n",
    "    function[i] = hp.reorder(hp.alm2map(alm, nside), r2n=True)\n",
    "    l_func[i] = l[k]\n",
    "    m_func[i] = m[k]\n",
    "    is_real_func[i] = 1\n",
    "    i += 1\n",
    "    if m[k] > 0:\n",
    "        alm[k] = complex(0, 1)\n",
    "        function[i] = hp.reorder(hp.alm2map(alm, nside), r2n=True)\n",
    "        l_func[i] = l[k]\n",
    "        m_func[i] = m[k]\n",
    "        is_real_func[i] = 0\n",
    "        i += 1\n",
    "    alm[k] = 0.0\n",
    "lm = 3\n",
    "plt.figure(figsize=(12, 5))\n",
    "for k in range(l_func.shape[0]):\n",
    "    pos = (\n",
    "        1\n",
    "        + l_func[k] * (2 * lm + 1)\n",
    "        + 2 * (is_real_func[k] - 0.5) * m_func[k]\n",
    "        - 1\n",
    "        + (lm + 1)\n",
    "    )\n",
    "    if is_real_func[k] == 1:\n",
    "        title = \"$\\mathbb{R}(A_{\\ell=%d,m=%d})$\" % (l_func[k], m_func[k])  # noqa: W605\n",
    "    else:\n",
    "        title = \"$\\mathbb{I}(A_{\\ell=%d,m=%d})$\" % (l_func[k], m_func[k])  # noqa: W605\n",
    "    if l_func[k] <= lm:\n",
    "        hp.mollview(\n",
    "            function[k],\n",
    "            nest=True,\n",
    "            hold=False,\n",
    "            sub=(lm + 1, 2 * lm + 1, pos),\n",
    "            title=title,\n",
    "            cbar=False,\n",
    "            cmap=\"coolwarm\",\n",
    "        )"
   ]
  },
  {
   "cell_type": "code",
   "execution_count": null,
   "id": "5",
   "metadata": {},
   "outputs": [],
   "source": [
    "level = 8\n",
    "cell_ids = np.arange(12 * 4**level)\n",
    "grid_info = {\"grid_name\": \"healpix\", \"level\": level, \"indexing_scheme\": \"nested\"}\n",
    "\n",
    "ds = (\n",
    "    xr.Dataset(coords={\"cell_ids\": (\"cells\", cell_ids, grid_info)})\n",
    "    .pipe(xdggs.decode)\n",
    "    .pipe(lambda ds: ds.merge(ds.dggs.cell_centers()))\n",
    "    .assign(\n",
    "        data=lambda ds: np.cos(6 * np.radians(ds[\"latitude\"]))\n",
    "        * np.sin(6 * np.radians(ds[\"longitude\"]))\n",
    "        # data=function[k,:]\n",
    "    )\n",
    ")\n",
    "SH_L3_M2 = xr.DataArray(\n",
    "    function[13, :], dims=(\"cells\"), coords={\"cell_ids\": (\"cells\", cell_ids, grid_info)}\n",
    ")\n",
    "ds[\"SH_L3_M2\"] = SH_L3_M2\n",
    "ds"
   ]
  },
  {
   "cell_type": "markdown",
   "id": "6",
   "metadata": {},
   "source": [
    "### Plotting with xdggs is very simple, just use 'explore' function"
   ]
  },
  {
   "cell_type": "code",
   "execution_count": null,
   "id": "7",
   "metadata": {},
   "outputs": [],
   "source": [
    "ds[\"SH_L3_M2\"].dggs.explore(center=0, cmap=\"coolwarm\", alpha=0.8)"
   ]
  },
  {
   "cell_type": "markdown",
   "id": "8",
   "metadata": {},
   "source": [
    "## Open a sample DestinE data in hearlpix (saved in zarr format with attributes)\n",
    "\n",
    "It is straigh forward to open dataset in xarray to use an annotated zarr file.  \n",
    "\n",
    "Here we have loaded grib file then transformed it to zarr file with following metadata, and assigned coordinate.  \n",
    "\n",
    "```bash\n",
    ".assign_coords(\n",
    "    cell_ids=('value', np.arange(12*4**10 ), \n",
    "              {\"grid_name\":\"healpix\",\"level\": 10, \"indexing_scheme\": \"nested\"}))\n",
    "```"
   ]
  },
  {
   "cell_type": "code",
   "execution_count": null,
   "id": "9",
   "metadata": {},
   "outputs": [],
   "source": [
    "ds = xr.open_dataset(\n",
    "    # \"https://data-taos.ifremer.fr/DestinE/average_surface_temperature.zarr\",\n",
    "    \"DestinE/average_surface_temperature.zarr\",\n",
    "    engine=\"zarr\",\n",
    "    chunks={},\n",
    "    consolidated=True,\n",
    ")\n",
    "ds"
   ]
  },
  {
   "cell_type": "code",
   "execution_count": null,
   "id": "10",
   "metadata": {},
   "outputs": [],
   "source": [
    "data = (\n",
    "    ds[\"avg_thetao\"]\n",
    "    .isel(oceanModelLayer=1)\n",
    "    .pint.quantify()\n",
    "    .pint.to({\"avg_thetao\": \"degC\"})\n",
    "    .pint.dequantify()\n",
    "    .pipe(xdggs.decode)\n",
    "    .compute()\n",
    ")\n",
    "data"
   ]
  },
  {
   "cell_type": "code",
   "execution_count": null,
   "id": "11",
   "metadata": {},
   "outputs": [],
   "source": [
    "hp.cartview(data.data, nest=True, cmap=\"viridis\", flip=\"geo\")"
   ]
  },
  {
   "cell_type": "code",
   "execution_count": null,
   "id": "12",
   "metadata": {},
   "outputs": [],
   "source": [
    "data.dggs.explore(center=0, cmap=\"viridis\", alpha=0.5)"
   ]
  },
  {
   "cell_type": "markdown",
   "id": "13",
   "metadata": {},
   "source": [
    "### With XDGGS, one can select points of data not only from cell_ids from DGGS, but also from latitude and longitude."
   ]
  },
  {
   "cell_type": "code",
   "execution_count": null,
   "id": "14",
   "metadata": {},
   "outputs": [],
   "source": [
    "lon = np.arange(48, 49.5, 0.01)\n",
    "lat = np.arange(354, 355, 0.01)\n",
    "full_lat = np.repeat(lat, len(lon))\n",
    "full_lon = np.tile(lon, len(lat))\n",
    "\n",
    "(data.dggs.sel_latlon(longitude=full_lon, latitude=full_lat)).dggs.explore(\n",
    "    center=0, cmap=\"viridis\", alpha=0.8\n",
    ")"
   ]
  },
  {
   "cell_type": "markdown",
   "id": "15",
   "metadata": {},
   "source": [
    "## Open a EERIE Cloud  data in hearlpix, saved in zarr format from DKRZ.\n",
    "\n",
    "NextGems project provide their data set in healpix in zarr format. \n",
    "Deatiled description of EERIE Cloud can be found here\n",
    "https://easy.gems.dkrz.de/simulations/EERIE/eerie_data-access_online.html\n",
    "\n",
    "After opening we need to assigne coordinate and meta data defining the grid system.    \n",
    "\n"
   ]
  },
  {
   "cell_type": "code",
   "execution_count": null,
   "id": "16",
   "metadata": {},
   "outputs": [],
   "source": [
    "ds = xr.open_dataset(\n",
    "    \"https://eerie.cloud.dkrz.de/datasets/nextgems.IFS_9-FESOM_5-production.2D_hourly_healpix512/zarr\",\n",
    "    engine=\"zarr\",\n",
    "    chunks={},\n",
    "    consolidated=True,\n",
    ")\n",
    "ds"
   ]
  },
  {
   "cell_type": "code",
   "execution_count": null,
   "id": "17",
   "metadata": {},
   "outputs": [],
   "source": [
    "ds = ds.assign_coords(\n",
    "    cell_ids=(\n",
    "        \"value\",\n",
    "        np.arange(12 * 4**9),\n",
    "        {\"grid_name\": \"healpix\", \"level\": 9, \"indexing_scheme\": \"nested\"},\n",
    "    )\n",
    ")"
   ]
  },
  {
   "cell_type": "code",
   "execution_count": null,
   "id": "18",
   "metadata": {},
   "outputs": [],
   "source": [
    "data = ds[\"msl\"].isel(time=1000).compute().pipe(xdggs.decode)\n",
    "data"
   ]
  },
  {
   "cell_type": "code",
   "execution_count": null,
   "id": "19",
   "metadata": {},
   "outputs": [],
   "source": [
    "data.dggs.explore(center=0, cmap=\"viridis\", alpha=0.8)"
   ]
  },
  {
   "cell_type": "markdown",
   "id": "20",
   "metadata": {},
   "source": [
    "### Selecting region to plot\n",
    "#### Selection using healpix cell_ids"
   ]
  },
  {
   "cell_type": "code",
   "execution_count": null,
   "id": "21",
   "metadata": {},
   "outputs": [],
   "source": [
    "data.sel(cell_ids=slice(0, 1000)).dggs.explore(cmap=\"viridis\", alpha=0.8)  # center=0,"
   ]
  },
  {
   "cell_type": "markdown",
   "id": "22",
   "metadata": {},
   "source": [
    "#### Selection using latitude and longitude"
   ]
  },
  {
   "cell_type": "code",
   "execution_count": null,
   "id": "23",
   "metadata": {},
   "outputs": [],
   "source": [
    "(\n",
    "    data.dggs.sel_latlon(latitude=0, longitude=48)\n",
    "    .expand_dims(\"cell_ids\")\n",
    "    .pipe(xdggs.decode)\n",
    ").dggs.explore(center=0, cmap=\"viridis\", alpha=0.8)"
   ]
  },
  {
   "cell_type": "code",
   "execution_count": null,
   "id": "24",
   "metadata": {},
   "outputs": [],
   "source": [
    "(data.dggs.sel_latlon(longitude=[48, 47, 46], latitude=[-5, -5.3, -5.5])).dggs.explore(\n",
    "    center=0, cmap=\"viridis\", alpha=0.8\n",
    ")"
   ]
  },
  {
   "cell_type": "code",
   "execution_count": null,
   "id": "25",
   "metadata": {},
   "outputs": [],
   "source": [
    "lon = np.arange(48.5, 49, 0.01)\n",
    "lat = np.arange(355, 355.5, 0.01)\n",
    "full_lat = np.repeat(lat, len(lon))\n",
    "full_lon = np.tile(lon, len(lat))\n",
    "\n",
    "(data.dggs.sel_latlon(longitude=full_lon, latitude=full_lat)).dggs.explore(\n",
    "    center=0, cmap=\"viridis\", alpha=0.8\n",
    ")"
   ]
  },
  {
   "cell_type": "markdown",
   "id": "26",
   "metadata": {},
   "source": [
    "## Current Issue with Testing Different Datasets\n",
    "\n",
    "It is crucial to define a consistent coordinate 'name' and establish how attributes should be specified in order to test different data sources without having to re-define the coordinate name for each dataset. In **XDGGS**, we follow the convention below:\n",
    "\n",
    "```python\n",
    ".assign_coords(\n",
    "    cell_ids=('value', np.arange(12*4**10), \n",
    "              {\"grid_name\": \"healpix\", \"level\": 10, \"indexing_scheme\": \"nested\"}))\n",
    "```\n",
    "\n",
    "## Whats next\n",
    "\n",
    "Currently, selecting data by latitude and longitude must be done on a point-by-point basis. However, the conventional approach for users to select a region of interest is still a bounding box (bbox) using latitude and longitude. Therefore, enabling this functionality is a priority to streamline data selection."
   ]
  }
 ],
 "metadata": {
  "language_info": {
   "codemirror_mode": {
    "name": "ipython",
    "version": 3
   },
   "file_extension": ".py",
   "mimetype": "text/x-python",
   "name": "python",
   "nbconvert_exporter": "python",
   "pygments_lexer": "ipython3",
   "version": "3.12.5"
  }
 },
 "nbformat": 4,
 "nbformat_minor": 5
}
