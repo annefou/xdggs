{
 "cells": [
  {
   "cell_type": "code",
   "execution_count": null,
   "id": "0",
   "metadata": {},
   "outputs": [],
   "source": [
    "import xarray as xr\n",
    "\n",
    "import xdggs\n",
    "\n",
    "_ = xr.set_options(display_expand_data=False)"
   ]
  },
  {
   "cell_type": "markdown",
   "id": "1",
   "metadata": {},
   "source": [
    "# Working with H3 data\n",
    "\n",
    "H3 is a popular icosahedral DGGS with hexagonal cells, developed and popularized by Uber. For more information, see https://h3geo.org"
   ]
  },
  {
   "cell_type": "markdown",
   "id": "2",
   "metadata": {},
   "source": [
    "## initialization\n",
    "\n",
    "To initialize, we first have to open the dataset. Here we'll use `xarray`'s `air_temperature` tutorial dataset, which was interpolated to the H3 grid.\n",
    "\n",
    "```{tip}\n",
    "If the dataset you want to work on is not already on a H3 grid, you will have to use a different package to interpolate.\n",
    "```\n",
    "\n",
    "```{warning}\n",
    "For the purpose of this tutorial we drop the geographic coordinates and load all data into memory, but this is not required.\n",
    "```"
   ]
  },
  {
   "cell_type": "code",
   "execution_count": null,
   "id": "3",
   "metadata": {},
   "outputs": [],
   "source": [
    "original_ds = xdggs.tutorial.open_dataset(\"air_temperature\", \"h3\").load()\n",
    "air_temperature = original_ds.drop_vars([\"lat\", \"lon\"])\n",
    "air_temperature"
   ]
  },
  {
   "cell_type": "markdown",
   "id": "4",
   "metadata": {},
   "source": [
    "After that, we can use {py:func}`xdggs.decode` to tell `xdggs` to interpret the cell ids.\n",
    "\n",
    "This will create a grid object (see {py:attr}`xarray.Dataset.dggs.grid_info`) containing the grid parameters and a custom index for the `cell_ids` coordinate (notice how the coordinate name is displayed in bold?), which will allow us to perform grid-aware operations.\n",
    "\n",
    "```{important}\n",
    "For this to work, the dataset has to have a coordinate called `cell_ids`, and it also has to have the `grid_name` attribute and exactly one of the `resolution` or `level` attributes.\n",
    "\n",
    "In this case, `grid_name` is `\"h3\"`, and the `resolution` is 2 (the `h3` libraries call this the \"cell resolution\", while `xdggs` will always refer to `level`).\n",
    "```"
   ]
  },
  {
   "cell_type": "code",
   "execution_count": null,
   "id": "5",
   "metadata": {},
   "outputs": [],
   "source": [
    "ds = air_temperature.pipe(xdggs.decode)\n",
    "ds"
   ]
  },
  {
   "cell_type": "markdown",
   "id": "6",
   "metadata": {},
   "source": [
    "## deriving data\n",
    "\n",
    "With the grid object and the custom index, we can derive additional data from the cell ids.\n",
    "\n",
    "### cell center coordinates\n",
    "\n",
    "For example, we can reconstruct the cell centers we dropped from the original dataset, using {py:meth}`xarray.Dataset.dggs.cell_centers`:"
   ]
  },
  {
   "cell_type": "code",
   "execution_count": null,
   "id": "7",
   "metadata": {},
   "outputs": [],
   "source": [
    "cell_centers = ds.dggs.cell_centers()\n",
    "cell_centers"
   ]
  },
  {
   "cell_type": "markdown",
   "id": "8",
   "metadata": {},
   "source": [
    "these are the same as the ones we dropped before:"
   ]
  },
  {
   "cell_type": "code",
   "execution_count": null,
   "id": "9",
   "metadata": {},
   "outputs": [],
   "source": [
    "derived_ds = ds.assign_coords(\n",
    "    cell_centers.rename_vars({\"latitude\": \"lat\", \"longitude\": \"lon\"}).coords\n",
    ")\n",
    "derived_ds"
   ]
  },
  {
   "cell_type": "code",
   "execution_count": null,
   "id": "10",
   "metadata": {},
   "outputs": [],
   "source": [
    "xr.testing.assert_equal(derived_ds, original_ds)"
   ]
  },
  {
   "cell_type": "markdown",
   "id": "11",
   "metadata": {},
   "source": [
    "### cell boundary polygons\n",
    "\n",
    "Additionally, we can derive the cell boundary polygons as an array of {doc}`shapely:index` using {py:meth}`xarray.Dataset.dggs.cell_boundaries`:"
   ]
  },
  {
   "cell_type": "code",
   "execution_count": null,
   "id": "12",
   "metadata": {},
   "outputs": [],
   "source": [
    "cell_boundaries = ds.dggs.cell_boundaries()\n",
    "cell_boundaries"
   ]
  },
  {
   "cell_type": "markdown",
   "id": "13",
   "metadata": {},
   "source": [
    "## plotting\n",
    "\n",
    "We can quickly visualize the data using {py:meth}`xarray.DataArray.dggs.explore`, which is powered by [lonboard](https://github.com/developmentseed/lonboard).\n",
    "\n",
    "```{warning}\n",
    "This is currently restricted to 1D `DataArray` objects, so we need to select a single timestep.\n",
    "```"
   ]
  },
  {
   "cell_type": "code",
   "execution_count": null,
   "id": "14",
   "metadata": {},
   "outputs": [],
   "source": [
    "ds[\"air\"].isel(time=15).dggs.explore()"
   ]
  }
 ],
 "metadata": {
  "language_info": {
   "codemirror_mode": {
    "name": "ipython",
    "version": 3
   },
   "file_extension": ".py",
   "mimetype": "text/x-python",
   "name": "python",
   "nbconvert_exporter": "python",
   "pygments_lexer": "ipython3",
   "version": "3.12.7"
  }
 },
 "nbformat": 4,
 "nbformat_minor": 5
}
