{
 "cells": [
  {
   "cell_type": "code",
   "execution_count": null,
   "id": "0",
   "metadata": {},
   "outputs": [],
   "source": [
    "import xarray as xr\n",
    "\n",
    "import xdggs\n",
    "\n",
    "_ = xr.set_options(display_expand_data=False)"
   ]
  },
  {
   "cell_type": "markdown",
   "id": "1",
   "metadata": {},
   "source": [
    "# Working with H3 data\n",
    "\n",
    "Introduction to H3, including level 0 image."
   ]
  },
  {
   "cell_type": "markdown",
   "id": "2",
   "metadata": {},
   "source": [
    "## initialization\n",
    "\n",
    "To initialize, we first have to open the data:"
   ]
  },
  {
   "cell_type": "code",
   "execution_count": null,
   "id": "3",
   "metadata": {},
   "outputs": [],
   "source": [
    "ds_raw = xdggs.tutorial.open_dataset(\"air_temperature\", \"h3\").load()\n",
    "ds_raw"
   ]
  },
  {
   "cell_type": "markdown",
   "id": "4",
   "metadata": {},
   "source": [
    "After that, we can use :py:func:`xdggs.decode` to tell `xdggs` to interpret the cell ids:"
   ]
  },
  {
   "cell_type": "code",
   "execution_count": null,
   "id": "5",
   "metadata": {},
   "outputs": [],
   "source": [
    "ds = ds_raw.pipe(xdggs.decode)\n",
    "ds"
   ]
  },
  {
   "cell_type": "markdown",
   "id": "6",
   "metadata": {},
   "source": [
    "## deriving data\n",
    "\n",
    "We can derive data from the cell ids:\n",
    "- cell centers\n",
    "- cell boundaries"
   ]
  },
  {
   "cell_type": "code",
   "execution_count": null,
   "id": "7",
   "metadata": {},
   "outputs": [],
   "source": [
    "cell_centers = ds.dggs.cell_centers()\n",
    "cell_centers"
   ]
  },
  {
   "cell_type": "code",
   "execution_count": null,
   "id": "8",
   "metadata": {},
   "outputs": [],
   "source": [
    "cell_boundaries = ds.dggs.cell_boundaries()\n",
    "cell_boundaries"
   ]
  },
  {
   "cell_type": "markdown",
   "id": "9",
   "metadata": {},
   "source": [
    "## plotting\n",
    "\n",
    "We can quickly visualize the data using :py:meth:`Dataset.dggs.explore`, which is powered by :doc:`lonboard <lonboard:index>`.\n",
    "\n",
    "> [!WARNING]\n",
    "> This is currently restricted to 1D `DataArray` objects, so we need to select a single timestep."
   ]
  },
  {
   "cell_type": "code",
   "execution_count": null,
   "id": "10",
   "metadata": {},
   "outputs": [],
   "source": [
    "ds[\"air\"].isel(time=15).dggs.explore()"
   ]
  }
 ],
 "metadata": {
  "language_info": {
   "codemirror_mode": {
    "name": "ipython",
    "version": 3
   },
   "file_extension": ".py",
   "mimetype": "text/x-python",
   "name": "python",
   "nbconvert_exporter": "python",
   "pygments_lexer": "ipython3",
   "version": "3.12.7"
  }
 },
 "nbformat": 4,
 "nbformat_minor": 5
}
